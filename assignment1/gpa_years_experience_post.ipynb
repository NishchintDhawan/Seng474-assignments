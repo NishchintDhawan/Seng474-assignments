{
 "cells": [
  {
   "attachments": {},
   "cell_type": "markdown",
   "metadata": {},
   "source": [
    "## Linear Regression from scratch\n",
    "\n",
    "The goal of this exercise is to implement the linear regression algorithm. \n",
    "The dataset is about predicting salary given gpa and years of experience. \n",
    "The steps to implement are as follows.  \n",
    "\n",
    "1.\tRead the data from a file (gpa_year_experience.csv)\n",
    "2.\tScale the attributes\n",
    "3.\tCompute the error at each iteration and save the error values in vector\n",
    "4.\tPlot the error vector as a curve in the end\n",
    "5.\tPredict a new instance.\n",
    "6.  Compare with SGDRegressor\n",
    "7.  Create polynomial features and predict new instance   "
   ]
  },
  {
   "cell_type": "code",
   "execution_count": 11,
   "metadata": {},
   "outputs": [],
   "source": [
    "# import libraries\n",
    "import pandas as pd\n",
    "import numpy as np\n",
    "import matplotlib.pyplot as plt\n",
    "\n",
    "# ignore warnings\n",
    "import warnings\n",
    "warnings.filterwarnings('ignore')"
   ]
  },
  {
   "cell_type": "code",
   "execution_count": 12,
   "metadata": {},
   "outputs": [
    {
     "name": "stdout",
     "output_type": "stream",
     "text": [
      "0     1.0\n",
      "3     2.5\n",
      "9     3.7\n",
      "21    8.0\n",
      "Name: years_of_experience, dtype: float64\n",
      "    gpa  years_of_experience  salary\n",
      "0    70                  1.0      50\n",
      "1    80                  2.0      55\n",
      "2    65                  2.0      45\n",
      "3    70                  2.5      60\n",
      "4    65                  2.7      58\n",
      "5    80                  3.0      60\n",
      "6    90                  3.0      65\n",
      "7    92                  3.2      67\n",
      "8    60                  3.5      55\n",
      "9    70                  3.7      60\n",
      "10   76                  4.0      65\n",
      "11   85                  4.5      70\n",
      "12   80                  5.0      78\n",
      "13   60                  5.5      75\n",
      "14   64                  5.8      78\n",
      "15   60                  6.0      70\n",
      "16   87                  6.0      80\n",
      "17   90                  6.5      82\n",
      "18   75                  7.0      75\n",
      "19   80                  7.0      85\n",
      "20   75                  7.5      80\n",
      "21   70                  8.0      82\n",
      "22   80                  8.5      85\n",
      "23   90                  8.7      90\n",
      "24   85                  9.0      85\n"
     ]
    },
    {
     "data": {
      "text/html": [
       "<div>\n",
       "<style scoped>\n",
       "    .dataframe tbody tr th:only-of-type {\n",
       "        vertical-align: middle;\n",
       "    }\n",
       "\n",
       "    .dataframe tbody tr th {\n",
       "        vertical-align: top;\n",
       "    }\n",
       "\n",
       "    .dataframe thead th {\n",
       "        text-align: right;\n",
       "    }\n",
       "</style>\n",
       "<table border=\"1\" class=\"dataframe\">\n",
       "  <thead>\n",
       "    <tr style=\"text-align: right;\">\n",
       "      <th></th>\n",
       "      <th>gpa</th>\n",
       "      <th>years_of_experience</th>\n",
       "      <th>salary</th>\n",
       "    </tr>\n",
       "  </thead>\n",
       "  <tbody>\n",
       "    <tr>\n",
       "      <th>0</th>\n",
       "      <td>70</td>\n",
       "      <td>1.0</td>\n",
       "      <td>50</td>\n",
       "    </tr>\n",
       "    <tr>\n",
       "      <th>1</th>\n",
       "      <td>80</td>\n",
       "      <td>2.0</td>\n",
       "      <td>55</td>\n",
       "    </tr>\n",
       "    <tr>\n",
       "      <th>2</th>\n",
       "      <td>65</td>\n",
       "      <td>2.0</td>\n",
       "      <td>45</td>\n",
       "    </tr>\n",
       "    <tr>\n",
       "      <th>3</th>\n",
       "      <td>70</td>\n",
       "      <td>2.5</td>\n",
       "      <td>60</td>\n",
       "    </tr>\n",
       "    <tr>\n",
       "      <th>4</th>\n",
       "      <td>65</td>\n",
       "      <td>2.7</td>\n",
       "      <td>58</td>\n",
       "    </tr>\n",
       "  </tbody>\n",
       "</table>\n",
       "</div>"
      ],
      "text/plain": [
       "   gpa  years_of_experience  salary\n",
       "0   70                  1.0      50\n",
       "1   80                  2.0      55\n",
       "2   65                  2.0      45\n",
       "3   70                  2.5      60\n",
       "4   65                  2.7      58"
      ]
     },
     "execution_count": 12,
     "metadata": {},
     "output_type": "execute_result"
    }
   ],
   "source": [
    "# load data and show first 5 rows\n",
    "data = pd.read_csv('https://raw.githubusercontent.com/thomouvic/SENG474/main/data/gpa_years_experience.csv')\n",
    "print(data.loc[data[\"gpa\"] == 70 ,'years_of_experience'])\n",
    "print(data)\n",
    "data.head()"
   ]
  },
  {
   "cell_type": "code",
   "execution_count": 13,
   "metadata": {},
   "outputs": [],
   "source": [
    "# prepare data, split columns into X and y\n",
    "# X should be a numpy array of shape (m, n), use .values to convert from dataframe to numpy array\n",
    "# y should be a numpy array of shape (m,), use .values to convert from dataframe to numpy array\n",
    "Y = data['salary']\n",
    "X = data.drop('salary', axis=1)\n",
    "X = np.array(X)\n",
    "Y = np.array(Y)"
   ]
  },
  {
   "cell_type": "code",
   "execution_count": 14,
   "metadata": {},
   "outputs": [
    {
     "name": "stdout",
     "output_type": "stream",
     "text": [
      "m = 25\n",
      "n = 2\n"
     ]
    }
   ],
   "source": [
    "# extract m and n from X using X.shape[0] to get m and X.shape[1] to get n\n",
    "m = X.shape[0]\n",
    "n = X.shape[1]\n",
    "print(\"m =\",  m)\n",
    "print(\"n =\",  n)"
   ]
  },
  {
   "cell_type": "code",
   "execution_count": 15,
   "metadata": {},
   "outputs": [
    {
     "name": "stdout",
     "output_type": "stream",
     "text": [
      "Shape is = (25, 1)\n"
     ]
    }
   ],
   "source": [
    "# y should be a numpy array of shape (m, 1), use reshape(m, 1) to reshape y from (m,) to (m, 1)\n",
    "Y = Y.reshape(25, 1)\n",
    "print(\"Shape is =\",  Y.shape)"
   ]
  },
  {
   "cell_type": "code",
   "execution_count": 16,
   "metadata": {},
   "outputs": [
    {
     "data": {
      "text/plain": [
       "array([[0.3125 , 0.     ],\n",
       "       [0.625  , 0.125  ],\n",
       "       [0.15625, 0.125  ],\n",
       "       [0.3125 , 0.1875 ],\n",
       "       [0.15625, 0.2125 ],\n",
       "       [0.625  , 0.25   ],\n",
       "       [0.9375 , 0.25   ],\n",
       "       [1.     , 0.275  ],\n",
       "       [0.     , 0.3125 ],\n",
       "       [0.3125 , 0.3375 ],\n",
       "       [0.5    , 0.375  ],\n",
       "       [0.78125, 0.4375 ],\n",
       "       [0.625  , 0.5    ],\n",
       "       [0.     , 0.5625 ],\n",
       "       [0.125  , 0.6    ],\n",
       "       [0.     , 0.625  ],\n",
       "       [0.84375, 0.625  ],\n",
       "       [0.9375 , 0.6875 ],\n",
       "       [0.46875, 0.75   ],\n",
       "       [0.625  , 0.75   ],\n",
       "       [0.46875, 0.8125 ],\n",
       "       [0.3125 , 0.875  ],\n",
       "       [0.625  , 0.9375 ],\n",
       "       [0.9375 , 0.9625 ],\n",
       "       [0.78125, 1.     ]])"
      ]
     },
     "execution_count": 16,
     "metadata": {},
     "output_type": "execute_result"
    }
   ],
   "source": [
    "# normalize X using min-max scaler (sklearn.preprocessing.MinMaxScaler)\n",
    "from sklearn.preprocessing import MinMaxScaler\n",
    "\n",
    "scaler = MinMaxScaler()\n",
    "model=scaler.fit(X)\n",
    "X=model.transform(X)\n",
    "X"
   ]
  },
  {
   "cell_type": "code",
   "execution_count": 17,
   "metadata": {},
   "outputs": [],
   "source": [
    "# add dummy feature to X using scikit-learn dummy feature (sklearn.preprocessing.add_dummy_feature)\n",
    "from sklearn.preprocessing import add_dummy_feature\n",
    "X_b = add_dummy_feature(X)\n",
    "xOG = X\n",
    "X = X_b"
   ]
  },
  {
   "cell_type": "code",
   "execution_count": 18,
   "metadata": {},
   "outputs": [
    {
     "name": "stdout",
     "output_type": "stream",
     "text": [
      "X shape = (25, 3)\n",
      "Y shape = (25, 1)\n"
     ]
    }
   ],
   "source": [
    "# print shapes of X and y\n",
    "# X should be (m, n+1) and y should be (m, 1)\n",
    "print(\"X shape =\",  X.shape)\n",
    "print(\"Y shape =\",  Y.shape)"
   ]
  },
  {
   "cell_type": "code",
   "execution_count": 19,
   "metadata": {},
   "outputs": [
    {
     "name": "stdout",
     "output_type": "stream",
     "text": [
      "Errors list: [48.10880439631, 33.34520971063439, 23.129875237624656, 16.06125939523344, 11.169710465754, 8.06769645835734, 6.5142122115510235, 5.534994441498286, 5.051807532134994, 4.760259366972317]\n"
     ]
    },
    {
     "data": {
      "image/png": "[encoded data removed]",
      "text/plain": [
       "<Figure size 640x480 with 1 Axes>"
      ]
     },
     "metadata": {},
     "output_type": "display_data"
    },
    {
     "data": {
      "text/plain": [
       "array([[44.69694899],\n",
       "       [21.26803414],\n",
       "       [25.80208124]])"
      ]
     },
     "execution_count": 19,
     "metadata": {},
     "output_type": "execute_result"
    }
   ],
   "source": [
    "eta = 0.1 # learning rate\n",
    "n_epochs = 10\n",
    "np.random.seed(42) # set random seed to 42 for reproducibility\n",
    "\n",
    "# create theta, of shape (n+1, 1) and initialize it to random values using np.random.randn\n",
    "theta = np.random.randn(n+1, 1) # randomly initialized model parameters\n",
    "\n",
    "E = [] # list to store errors at each epoch\n",
    "EpochList = []\n",
    "# compute error for initial theta and append to E\n",
    "\n",
    "# loop over n_epochs\n",
    "# for each epoch: compute gradients, update theta, compute error, append error to E\n",
    "m = len(X_b) # number of instances\n",
    "\n",
    "\n",
    "\n",
    "for epoch in range(n_epochs):\n",
    "  gradients = 2 / m * X_b.T @ (X_b @ theta - Y)\n",
    "  theta = theta - eta * gradients\n",
    "  y_predict = X_b @ theta\n",
    "\n",
    "  # e = Y - y_predict\n",
    "  e = [abs(Y[num] - y_predict[num]) for num in range(len(Y))]\n",
    "  t =sum(e) / len(e)\n",
    "  E.append(t[0])\n",
    "  EpochList.append(epoch)\n",
    "\n",
    "print(\"Errors list:\", E)\n",
    "\n",
    "# plot error vs epoch\n",
    "# creating the bar plot\n",
    "plt.bar(EpochList, E,\n",
    "        width = 0.4)\n",
    " \n",
    "plt.xlabel(\"Epoch\")\n",
    "plt.ylabel(\"Error\")\n",
    "plt.title(\"error vs epoch\")\n",
    "plt.show()\n",
    "\n",
    "# print final theta\n",
    "theta"
   ]
  },
  {
   "cell_type": "code",
   "execution_count": 24,
   "metadata": {},
   "outputs": [
    {
     "data": {
      "text/plain": [
       "array([[57.79372996]])"
      ]
     },
     "execution_count": 24,
     "metadata": {},
     "output_type": "execute_result"
    }
   ],
   "source": [
    "# let's predict the salary for a person who has gpa=70 and years_of_experience=3. \n",
    "# create a numpy array x of shape (1, 2) with these values\n",
    "# scale features using the same scaler we used earlier\n",
    "# insert dummy feature using dummy feature function\n",
    "# Predict salary of x\n",
    "x = np.array([[70,3]])\n",
    "# scaler2 = MinMaxScaler()\n",
    "# model2=scaler2.fit(x)\n",
    "x=model.transform(x)\n",
    "x_b = add_dummy_feature(x)\n",
    "y_predict = x_b @ theta\n",
    "y_predict"
   ]
  },
  {
   "cell_type": "code",
   "execution_count": 25,
   "metadata": {},
   "outputs": [
    {
     "data": {
      "text/html": [
       "<style>#sk-container-id-2 {color: black;background-color: white;}#sk-container-id-2 pre{padding: 0;}#sk-container-id-2 div.sk-toggleable {background-color: white;}#sk-container-id-2 label.sk-toggleable__label {cursor: pointer;display: block;width: 100%;margin-bottom: 0;padding: 0.3em;box-sizing: border-box;text-align: center;}#sk-container-id-2 label.sk-toggleable__label-arrow:before {content: \"▸\";float: left;margin-right: 0.25em;color: #696969;}#sk-container-id-2 label.sk-toggleable__label-arrow:hover:before {color: black;}#sk-container-id-2 div.sk-estimator:hover label.sk-toggleable__label-arrow:before {color: black;}#sk-container-id-2 div.sk-toggleable__content {max-height: 0;max-width: 0;overflow: hidden;text-align: left;background-color: #f0f8ff;}#sk-container-id-2 div.sk-toggleable__content pre {margin: 0.2em;color: black;border-radius: 0.25em;background-color: #f0f8ff;}#sk-container-id-2 input.sk-toggleable__control:checked~div.sk-toggleable__content {max-height: 200px;max-width: 100%;overflow: auto;}#sk-container-id-2 input.sk-toggleable__control:checked~label.sk-toggleable__label-arrow:before {content: \"▾\";}#sk-container-id-2 div.sk-estimator input.sk-toggleable__control:checked~label.sk-toggleable__label {background-color: #d4ebff;}#sk-container-id-2 div.sk-label input.sk-toggleable__control:checked~label.sk-toggleable__label {background-color: #d4ebff;}#sk-container-id-2 input.sk-hidden--visually {border: 0;clip: rect(1px 1px 1px 1px);clip: rect(1px, 1px, 1px, 1px);height: 1px;margin: -1px;overflow: hidden;padding: 0;position: absolute;width: 1px;}#sk-container-id-2 div.sk-estimator {font-family: monospace;background-color: #f0f8ff;border: 1px dotted black;border-radius: 0.25em;box-sizing: border-box;margin-bottom: 0.5em;}#sk-container-id-2 div.sk-estimator:hover {background-color: #d4ebff;}#sk-container-id-2 div.sk-parallel-item::after {content: \"\";width: 100%;border-bottom: 1px solid gray;flex-grow: 1;}#sk-container-id-2 div.sk-label:hover label.sk-toggleable__label {background-color: #d4ebff;}#sk-container-id-2 div.sk-serial::before {content: \"\";position: absolute;border-left: 1px solid gray;box-sizing: border-box;top: 0;bottom: 0;left: 50%;z-index: 0;}#sk-container-id-2 div.sk-serial {display: flex;flex-direction: column;align-items: center;background-color: white;padding-right: 0.2em;padding-left: 0.2em;position: relative;}#sk-container-id-2 div.sk-item {position: relative;z-index: 1;}#sk-container-id-2 div.sk-parallel {display: flex;align-items: stretch;justify-content: center;background-color: white;position: relative;}#sk-container-id-2 div.sk-item::before, #sk-container-id-2 div.sk-parallel-item::before {content: \"\";position: absolute;border-left: 1px solid gray;box-sizing: border-box;top: 0;bottom: 0;left: 50%;z-index: -1;}#sk-container-id-2 div.sk-parallel-item {display: flex;flex-direction: column;z-index: 1;position: relative;background-color: white;}#sk-container-id-2 div.sk-parallel-item:first-child::after {align-self: flex-end;width: 50%;}#sk-container-id-2 div.sk-parallel-item:last-child::after {align-self: flex-start;width: 50%;}#sk-container-id-2 div.sk-parallel-item:only-child::after {width: 0;}#sk-container-id-2 div.sk-dashed-wrapped {border: 1px dashed gray;margin: 0 0.4em 0.5em 0.4em;box-sizing: border-box;padding-bottom: 0.4em;background-color: white;}#sk-container-id-2 div.sk-label label {font-family: monospace;font-weight: bold;display: inline-block;line-height: 1.2em;}#sk-container-id-2 div.sk-label-container {text-align: center;}#sk-container-id-2 div.sk-container {/* jupyter's `normalize.less` sets `[hidden] { display: none; }` but bootstrap.min.css set `[hidden] { display: none !important; }` so we also need the `!important` here to be able to override the default hidden behavior on the sphinx rendered scikit-learn.org. See: https://github.com/scikit-learn/scikit-learn/issues/21755 */display: inline-block !important;position: relative;}#sk-container-id-2 div.sk-text-repr-fallback {display: none;}</style><div id=\"sk-container-id-2\" class=\"sk-top-container\"><div class=\"sk-text-repr-fallback\"><pre>SGDRegressor(eta0=0.1, random_state=42)</pre><b>In a Jupyter environment, please rerun this cell to show the HTML representation or trust the notebook. <br />On GitHub, the HTML representation is unable to render, please try loading this page with nbviewer.org.</b></div><div class=\"sk-container\" hidden><div class=\"sk-item\"><div class=\"sk-estimator sk-toggleable\"><input class=\"sk-toggleable__control sk-hidden--visually\" id=\"sk-estimator-id-2\" type=\"checkbox\" checked><label for=\"sk-estimator-id-2\" class=\"sk-toggleable__label sk-toggleable__label-arrow\">SGDRegressor</label><div class=\"sk-toggleable__content\"><pre>SGDRegressor(eta0=0.1, random_state=42)</pre></div></div></div></div></div>"
      ],
      "text/plain": [
       "SGDRegressor(eta0=0.1, random_state=42)"
      ]
     },
     "execution_count": 25,
     "metadata": {},
     "output_type": "execute_result"
    }
   ],
   "source": [
    "# Let's compare with scikit-learn's SGDRegressor\n",
    "# use SGDRegressor from scikit-learn to fit the data\n",
    "# use max_iter=1000, eta0=0.1, random_state=42\n",
    "from sklearn.linear_model import SGDRegressor\n",
    "sgdReg = SGDRegressor(max_iter=1000, eta0=0.1, random_state=42)\n",
    "sgdReg.fit(xOG, Y)"
   ]
  },
  {
   "cell_type": "code",
   "execution_count": 26,
   "metadata": {},
   "outputs": [
    {
     "data": {
      "text/plain": [
       "array([59.34627065])"
      ]
     },
     "execution_count": 26,
     "metadata": {},
     "output_type": "execute_result"
    }
   ],
   "source": [
    "# predict salary of x using sgd\n",
    "sgdReg.predict(x)"
   ]
  },
  {
   "cell_type": "code",
   "execution_count": 28,
   "metadata": {},
   "outputs": [
    {
     "data": {
      "text/plain": [
       "array([59.78935119])"
      ]
     },
     "execution_count": 28,
     "metadata": {},
     "output_type": "execute_result"
    }
   ],
   "source": [
    "from sklearn.preprocessing import PolynomialFeatures\n",
    "\n",
    "# create polynomial features of degree 2 using scikit-learn PolynomialFeatures\n",
    "poly = PolynomialFeatures(degree=2)\n",
    "# create X_poly using fit_transform\n",
    "X_poly = poly.fit_transform(xOG)\n",
    "# create x_poly using transform\n",
    "x_poly = poly.transform(x)\n",
    "# fit the data using SGDRegressor\n",
    "sgdReg.fit(X_poly, Y)\n",
    "# predict salary of x using sgd\n",
    "sgdReg.predict(x_poly)"
   ]
  }
 ],
 "metadata": {
  "kernelspec": {
   "display_name": "Python 3",
   "language": "python",
   "name": "python3"
  },
  "language_info": {
   "codemirror_mode": {
    "name": "ipython",
    "version": 3
   },
   "file_extension": ".py",
   "mimetype": "text/x-python",
   "name": "python",
   "nbconvert_exporter": "python",
   "pygments_lexer": "ipython3",
   "version": "3.11.3"
  }
 },
 "nbformat": 4,
 "nbformat_minor": 2
}
